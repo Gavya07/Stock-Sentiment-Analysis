{
 "cells": [
  {
   "cell_type": "markdown",
   "id": "5912fe9e",
   "metadata": {},
   "source": [
    "# DATA SCRAPING WITH TWEEPY:\n",
    "Make sure i have a Twitter Developer account and my API Keys ready"
   ]
  },
  {
   "cell_type": "code",
   "execution_count": 1,
   "id": "829f67b5",
   "metadata": {},
   "outputs": [],
   "source": [
    "import tweepy\n",
    "import pandas as pd\n",
    "import matplotlib.pyplot as plt\n",
    "import seaborn as sns"
   ]
  },
  {
   "cell_type": "code",
   "execution_count": 2,
   "id": "63e74108",
   "metadata": {},
   "outputs": [],
   "source": [
    "API_KEY='v8uvnH8eFTQfjo2pySBXIP2Ek'\n",
    "API_SECRET='hKph1w34EOvLT9Mv1sJkTc7rBjD2cVKL9f4qmWvZmPE2WQrH92'\n",
    "ACCESS_TOKEN='1862511905958510592-UK7dBas389a2ZIafTabeqC3WH7Ti4K' \n",
    "ACCESS_SECRET='5iAA2zykNzx8mdJmfrh5PAXKQ7MdOSt392H3qNzw462qf'\n"
   ]
  },
  {
   "cell_type": "code",
   "execution_count": 3,
   "id": "0161069e",
   "metadata": {},
   "outputs": [],
   "source": [
    "#Authenticate to Twitter\n",
    "auth=tweepy.OAuthHandler(API_KEY, API_SECRET)\n",
    "auth.set_access_token(ACCESS_TOKEN, ACCESS_SECRET)\n",
    "api=tweepy.API(auth, wait_on_rate_limit=True)"
   ]
  },
  {
   "cell_type": "code",
   "execution_count": 4,
   "id": "0180067a",
   "metadata": {},
   "outputs": [
    {
     "name": "stdout",
     "output_type": "stream",
     "text": [
      "Error: 429, {\"account_id\":1862516107690516480,\"product_name\":\"standard-basic\",\"title\":\"UsageCapExceeded\",\"period\":\"Monthly\",\"scope\":\"Product\",\"detail\":\"Usage cap exceeded: Monthly product cap\",\"type\":\"https://api.twitter.com/2/problems/usage-capped\"}\n",
      "Error: 429, {\"account_id\":1862516107690516480,\"product_name\":\"standard-basic\",\"title\":\"UsageCapExceeded\",\"period\":\"Monthly\",\"scope\":\"Product\",\"detail\":\"Usage cap exceeded: Monthly product cap\",\"type\":\"https://api.twitter.com/2/problems/usage-capped\"}\n"
     ]
    }
   ],
   "source": [
    "import requests\n",
    "import pandas as pd\n",
    "\n",
    "# Twitter API Bearer Token\n",
    "BEARER_TOKEN = 'AAAAAAAAAAAAAAAAAAAAAHMHxQEAAAAAOxoR99X0GOKiCctU63RAVupskms%3DCCHaMSck5WGLHaHgqvRKxxjGm2pzwJdhKJ8JPsZiO1NtMz3TRv'  # Replace with your actual Bearer Token\n",
    "\n",
    "def create_headers(bearer_token):\n",
    "    headers = {\"Authorization\": f\"Bearer {bearer_token}\"}\n",
    "    return headers\n",
    "\n",
    "def search_tweets(query, max_results=100):\n",
    "    url = f\"https://api.twitter.com/2/tweets/search/recent?query={query}&max_results={max_results}\"\n",
    "    headers = create_headers(BEARER_TOKEN)\n",
    "    response = requests.get(url, headers=headers)\n",
    "    \n",
    "    if response.status_code == 200:\n",
    "        return response.json()\n",
    "    else:\n",
    "        print(f\"Error: {response.status_code}, {response.text}\")\n",
    "        raise Exception(f\"Error: {response.status_code}, {response.text}\")\n",
    "\n",
    "# Example: Search for tweets containing the keyword \"stocks\"\n",
    "if __name__ == \"__main__\":\n",
    "    query = 'stocks'\n",
    "    try:\n",
    "        tweets_data = search_tweets(query)\n",
    "        tweets = tweets_data.get('data', [])\n",
    "        df = pd.DataFrame(tweets)\n",
    "        df.to_csv('tweets.csv', index=False)\n",
    "        print(\"Tweets saved to tweets.csv\")\n",
    "    except Exception as e:\n",
    "        print(e)"
   ]
  },
  {
   "cell_type": "code",
   "execution_count": 5,
   "id": "3388363d",
   "metadata": {},
   "outputs": [
    {
     "data": {
      "text/html": [
       "<div>\n",
       "<style scoped>\n",
       "    .dataframe tbody tr th:only-of-type {\n",
       "        vertical-align: middle;\n",
       "    }\n",
       "\n",
       "    .dataframe tbody tr th {\n",
       "        vertical-align: top;\n",
       "    }\n",
       "\n",
       "    .dataframe thead th {\n",
       "        text-align: right;\n",
       "    }\n",
       "</style>\n",
       "<table border=\"1\" class=\"dataframe\">\n",
       "  <thead>\n",
       "    <tr style=\"text-align: right;\">\n",
       "      <th></th>\n",
       "      <th>edit_history_tweet_ids</th>\n",
       "      <th>text</th>\n",
       "      <th>id</th>\n",
       "    </tr>\n",
       "  </thead>\n",
       "  <tbody>\n",
       "    <tr>\n",
       "      <th>90</th>\n",
       "      <td>['1862856562680741979']</td>\n",
       "      <td>Some Chemical Stocks now looking interesting \\...</td>\n",
       "      <td>1862856562680741979</td>\n",
       "    </tr>\n",
       "    <tr>\n",
       "      <th>91</th>\n",
       "      <td>['1862856554929668503']</td>\n",
       "      <td>RT @8_24Mamba4Ever: Kobe Bryant’s Era 🐍♾️\\n\\n ...</td>\n",
       "      <td>1862856554929668503</td>\n",
       "    </tr>\n",
       "    <tr>\n",
       "      <th>92</th>\n",
       "      <td>['1862856551385694448']</td>\n",
       "      <td>9632 スバル興業(株)\\n-49(-1.67%) \\n２５年３月期は３７％営業増益で４円...</td>\n",
       "      <td>1862856551385694448</td>\n",
       "    </tr>\n",
       "    <tr>\n",
       "      <th>93</th>\n",
       "      <td>['1862856546990043396']</td>\n",
       "      <td>@bkaellner @chriswmayer @Quartr_App Also follo...</td>\n",
       "      <td>1862856546990043396</td>\n",
       "    </tr>\n",
       "    <tr>\n",
       "      <th>94</th>\n",
       "      <td>['1862856534654333172']</td>\n",
       "      <td>RT @Chris_Sain: Personal Finance Tip: Anytime ...</td>\n",
       "      <td>1862856534654333172</td>\n",
       "    </tr>\n",
       "    <tr>\n",
       "      <th>95</th>\n",
       "      <td>['1862856532871786656']</td>\n",
       "      <td>Discover all you need to know about the uraniu...</td>\n",
       "      <td>1862856532871786656</td>\n",
       "    </tr>\n",
       "    <tr>\n",
       "      <th>96</th>\n",
       "      <td>['1862856524114047357']</td>\n",
       "      <td>Since 1996, Berkshire Hathaway $BRKA $BRKB is ...</td>\n",
       "      <td>1862856524114047357</td>\n",
       "    </tr>\n",
       "    <tr>\n",
       "      <th>97</th>\n",
       "      <td>['1862856490232451573']</td>\n",
       "      <td>RT @RakJhun: Manish Chokhani says PSU Bank sto...</td>\n",
       "      <td>1862856490232451573</td>\n",
       "    </tr>\n",
       "    <tr>\n",
       "      <th>98</th>\n",
       "      <td>['1862856482225873029']</td>\n",
       "      <td>@FromValue I came across a stock investment an...</td>\n",
       "      <td>1862856482225873029</td>\n",
       "    </tr>\n",
       "    <tr>\n",
       "      <th>99</th>\n",
       "      <td>['1862856474621350329']</td>\n",
       "      <td>Stocks up more than 10% in November 2024 -\\n\\n...</td>\n",
       "      <td>1862856474621350329</td>\n",
       "    </tr>\n",
       "  </tbody>\n",
       "</table>\n",
       "</div>"
      ],
      "text/plain": [
       "     edit_history_tweet_ids  \\\n",
       "90  ['1862856562680741979']   \n",
       "91  ['1862856554929668503']   \n",
       "92  ['1862856551385694448']   \n",
       "93  ['1862856546990043396']   \n",
       "94  ['1862856534654333172']   \n",
       "95  ['1862856532871786656']   \n",
       "96  ['1862856524114047357']   \n",
       "97  ['1862856490232451573']   \n",
       "98  ['1862856482225873029']   \n",
       "99  ['1862856474621350329']   \n",
       "\n",
       "                                                 text                   id  \n",
       "90  Some Chemical Stocks now looking interesting \\...  1862856562680741979  \n",
       "91  RT @8_24Mamba4Ever: Kobe Bryant’s Era 🐍♾️\\n\\n ...  1862856554929668503  \n",
       "92  9632 スバル興業(株)\\n-49(-1.67%) \\n２５年３月期は３７％営業増益で４円...  1862856551385694448  \n",
       "93  @bkaellner @chriswmayer @Quartr_App Also follo...  1862856546990043396  \n",
       "94  RT @Chris_Sain: Personal Finance Tip: Anytime ...  1862856534654333172  \n",
       "95  Discover all you need to know about the uraniu...  1862856532871786656  \n",
       "96  Since 1996, Berkshire Hathaway $BRKA $BRKB is ...  1862856524114047357  \n",
       "97  RT @RakJhun: Manish Chokhani says PSU Bank sto...  1862856490232451573  \n",
       "98  @FromValue I came across a stock investment an...  1862856482225873029  \n",
       "99  Stocks up more than 10% in November 2024 -\\n\\n...  1862856474621350329  "
      ]
     },
     "execution_count": 5,
     "metadata": {},
     "output_type": "execute_result"
    }
   ],
   "source": [
    "data=pd.read_csv('tweets.csv')\n",
    "data.tail(10)"
   ]
  },
  {
   "cell_type": "markdown",
   "id": "2e29fb79",
   "metadata": {},
   "source": [
    "# Preprocessing and Sentimental Analysis:\n",
    "Process the scraped tweets and perform sentiment analysis"
   ]
  },
  {
   "cell_type": "code",
   "execution_count": 6,
   "id": "fbd644f2",
   "metadata": {},
   "outputs": [
    {
     "name": "stdout",
     "output_type": "stream",
     "text": [
      "Requirement already satisfied: textblob in c:\\users\\gavya\\anaconda3\\lib\\site-packages (0.18.0.post0)\n",
      "Requirement already satisfied: nltk>=3.8 in c:\\users\\gavya\\anaconda3\\lib\\site-packages (from textblob) (3.9.1)\n",
      "Requirement already satisfied: regex>=2021.8.3 in c:\\users\\gavya\\anaconda3\\lib\\site-packages (from nltk>=3.8->textblob) (2022.7.9)\n",
      "Requirement already satisfied: joblib in c:\\users\\gavya\\anaconda3\\lib\\site-packages (from nltk>=3.8->textblob) (1.3.2)\n",
      "Requirement already satisfied: click in c:\\users\\gavya\\anaconda3\\lib\\site-packages (from nltk>=3.8->textblob) (8.0.4)\n",
      "Requirement already satisfied: tqdm in c:\\users\\gavya\\anaconda3\\lib\\site-packages (from nltk>=3.8->textblob) (4.64.1)\n",
      "Requirement already satisfied: colorama in c:\\users\\gavya\\anaconda3\\lib\\site-packages (from click->nltk>=3.8->textblob) (0.4.5)\n",
      "Note: you may need to restart the kernel to use updated packages.\n"
     ]
    }
   ],
   "source": [
    "pip install textblob"
   ]
  },
  {
   "cell_type": "code",
   "execution_count": 7,
   "id": "69f07f64",
   "metadata": {},
   "outputs": [],
   "source": [
    "from textblob import TextBlob\n",
    "import re"
   ]
  },
  {
   "cell_type": "code",
   "execution_count": 8,
   "id": "11bf65cf",
   "metadata": {},
   "outputs": [
    {
     "name": "stdout",
     "output_type": "stream",
     "text": [
      "Index(['edit_history_tweet_ids', 'text', 'id'], dtype='object')\n"
     ]
    }
   ],
   "source": [
    "print(data.columns)"
   ]
  },
  {
   "cell_type": "code",
   "execution_count": 9,
   "id": "cdfa2383",
   "metadata": {},
   "outputs": [
    {
     "name": "stdout",
     "output_type": "stream",
     "text": [
      "Processed tweets with sentiment saved to processed_tweets.csv\n"
     ]
    }
   ],
   "source": [
    "# Function to clean tweets\n",
    "def clean_tweet(tweet):\n",
    "    tweet = re.sub(r'http\\S+', '', tweet)  # Remove URLs\n",
    "    tweet = re.sub(r'@\\w+', '', tweet)    # Remove mentions\n",
    "    tweet = re.sub(r'#', '', tweet)       # Remove hashtags\n",
    "    tweet = re.sub(r'[^A-Za-z\\s]', '', tweet)  # Remove special characters\n",
    "    return tweet.strip()\n",
    "\n",
    "# Add sentiment analysis\n",
    "def analyze_sentiment(tweet):\n",
    "    sentiment = TextBlob(tweet).sentiment.polarity\n",
    "    return sentiment\n",
    "\n",
    "data['Cleaned_Tweet'] = data['text'].apply(clean_tweet)\n",
    "data['Sentiment'] = data['Cleaned_Tweet'].apply(analyze_sentiment)\n",
    "\n",
    "# Save processed data\n",
    "data.to_csv('processed_tweets.csv', index=False)\n",
    "print(\"Processed tweets with sentiment saved to processed_tweets.csv\")\n"
   ]
  },
  {
   "cell_type": "code",
   "execution_count": 10,
   "id": "0d7827e0",
   "metadata": {},
   "outputs": [
    {
     "name": "stdout",
     "output_type": "stream",
     "text": [
      "                                                text  \\\n",
      "0  RT @TradingMarvel: 10th stock out of 10 portfo...   \n",
      "1  @NFTfafafa I came across a stock investment an...   \n",
      "2  4243 (株)ニックス \\n+3(0.44%)\\n24年11月末株主から特別株主優待制度を...   \n",
      "3  I just really love $ET stock it’s such a mover...   \n",
      "4  Uncle Sham could've and should've invested Soc...   \n",
      "\n",
      "                                       Cleaned_Tweet  Sentiment  \n",
      "0  RT  th stock out of  portfolio stocks list is\\...   0.000000  \n",
      "1  I came across a stock investment analyst by ch...   0.257121  \n",
      "2                                                      0.000000  \n",
      "3  I just really love ET stock its such a mover l...   0.150000  \n",
      "4  Uncle Sham couldve and shouldve invested Socia...  -0.038889  \n"
     ]
    }
   ],
   "source": [
    "print(data[['text', 'Cleaned_Tweet', 'Sentiment']].head())"
   ]
  },
  {
   "cell_type": "markdown",
   "id": "69100843",
   "metadata": {},
   "source": [
    "# Building a Machine Learning Model"
   ]
  },
  {
   "cell_type": "code",
   "execution_count": 11,
   "id": "6cf2698a",
   "metadata": {},
   "outputs": [],
   "source": [
    "from sklearn.model_selection import train_test_split\n",
    "from sklearn.ensemble import RandomForestClassifier\n",
    "from sklearn.metrics import classification_report, accuracy_score, confusion_matrix"
   ]
  },
  {
   "cell_type": "code",
   "execution_count": 12,
   "id": "020589fe",
   "metadata": {},
   "outputs": [
    {
     "name": "stdout",
     "output_type": "stream",
     "text": [
      "Index(['edit_history_tweet_ids', 'text', 'id', 'Cleaned_Tweet', 'Sentiment'], dtype='object')\n"
     ]
    }
   ],
   "source": [
    "print(data.columns)"
   ]
  },
  {
   "cell_type": "code",
   "execution_count": 13,
   "id": "714ecc69",
   "metadata": {},
   "outputs": [],
   "source": [
    "def sentiment_category(score):\n",
    "    if score > 0.1:\n",
    "        return 2  # Positive\n",
    "    elif score < -0.1:\n",
    "        return 0  # Negative\n",
    "    else:\n",
    "        return 1  # Neutral"
   ]
  },
  {
   "cell_type": "code",
   "execution_count": 14,
   "id": "069dce6d",
   "metadata": {},
   "outputs": [
    {
     "name": "stdout",
     "output_type": "stream",
     "text": [
      "2    52\n",
      "1    42\n",
      "0     6\n",
      "Name: Target, dtype: int64\n"
     ]
    }
   ],
   "source": [
    "# Apply the function to create the Target column\n",
    "data['Target'] = data['Sentiment'].apply(sentiment_category)\n",
    "\n",
    "# Check distribution of categories\n",
    "print(data['Target'].value_counts())  # Counts of each category"
   ]
  },
  {
   "cell_type": "code",
   "execution_count": 15,
   "id": "2409a260",
   "metadata": {},
   "outputs": [],
   "source": [
    "X=data[['Sentiment']] #Features\n",
    "y=data['Target']"
   ]
  },
  {
   "cell_type": "code",
   "execution_count": 16,
   "id": "dfbfdb4f",
   "metadata": {},
   "outputs": [
    {
     "name": "stdout",
     "output_type": "stream",
     "text": [
      "Training samples: 80, Test samples: 20\n"
     ]
    }
   ],
   "source": [
    "# Split the data into training and test sets\n",
    "X_train, X_test, y_train, y_test = train_test_split(X, y, test_size=0.2, random_state=42)\n",
    "\n",
    "print(f\"Training samples: {len(X_train)}, Test samples: {len(X_test)}\")"
   ]
  },
  {
   "cell_type": "code",
   "execution_count": 17,
   "id": "d0a84448",
   "metadata": {},
   "outputs": [
    {
     "name": "stdout",
     "output_type": "stream",
     "text": [
      "Model Accuracy: 1.00\n",
      "Classification Report:\n",
      "               precision    recall  f1-score   support\n",
      "\n",
      "    Negative       1.00      1.00      1.00         2\n",
      "     Neutral       1.00      1.00      1.00         8\n",
      "    Positive       1.00      1.00      1.00        10\n",
      "\n",
      "    accuracy                           1.00        20\n",
      "   macro avg       1.00      1.00      1.00        20\n",
      "weighted avg       1.00      1.00      1.00        20\n",
      "\n"
     ]
    }
   ],
   "source": [
    "# Initialize and train the model\n",
    "model = RandomForestClassifier(n_estimators=100, random_state=42)\n",
    "model.fit(X_train, y_train)\n",
    "\n",
    "# Make predictions\n",
    "y_pred = model.predict(X_test)\n",
    "\n",
    "# Evaluate the model\n",
    "accuracy = accuracy_score(y_test, y_pred)\n",
    "print(f\"Model Accuracy: {accuracy:.2f}\")\n",
    "print(\"Classification Report:\\n\", classification_report(y_test, y_pred, target_names=['Negative', 'Neutral', 'Positive']))"
   ]
  },
  {
   "cell_type": "code",
   "execution_count": 18,
   "id": "24418ba6",
   "metadata": {},
   "outputs": [
    {
     "data": {
      "image/png": "[encoded data removed]",
      "text/plain": [
       "<Figure size 800x600 with 2 Axes>"
      ]
     },
     "metadata": {},
     "output_type": "display_data"
    }
   ],
   "source": [
    "# Generate confusion matrix\n",
    "conf_matrix = confusion_matrix(y_test, y_pred)\n",
    "\n",
    "# Plot confusion matrix\n",
    "plt.figure(figsize=(8, 6))\n",
    "sns.heatmap(conf_matrix, annot=True, fmt='d', cmap='Blues',\n",
    "            xticklabels=['Negative', 'Neutral', 'Positive'],\n",
    "            yticklabels=['Negative', 'Neutral', 'Positive'])\n",
    "plt.title(\"Confusion Matrix\")\n",
    "plt.xlabel(\"Predicted\")\n",
    "plt.ylabel(\"Actual\")\n",
    "plt.show()\n"
   ]
  },
  {
   "cell_type": "code",
   "execution_count": 19,
   "id": "5e5ccbe2",
   "metadata": {},
   "outputs": [
    {
     "data": {
      "image/png": "[encoded data removed]",
      "text/plain": [
       "<Figure size 800x600 with 1 Axes>"
      ]
     },
     "metadata": {},
     "output_type": "display_data"
    }
   ],
   "source": [
    "#Sentiment Distribution\n",
    "# Plot distribution of Target (sentiment categories)\n",
    "plt.figure(figsize=(8, 6))\n",
    "sns.countplot(x='Target', data=data, palette='cool', order=[0, 1, 2])\n",
    "plt.title(\"Distribution of Sentiment Categories\")\n",
    "plt.xlabel(\"Sentiment Category\")\n",
    "plt.ylabel(\"Frequency\")\n",
    "plt.xticks(ticks=[0, 1, 2], labels=['Negative', 'Neutral', 'Positive'])\n",
    "plt.show()\n"
   ]
  },
  {
   "cell_type": "code",
   "execution_count": 20,
   "id": "31b678a9",
   "metadata": {},
   "outputs": [
    {
     "data": {
      "image/png": "[encoded data removed]",
      "text/plain": [
       "<Figure size 1200x600 with 1 Axes>"
      ]
     },
     "metadata": {},
     "output_type": "display_data"
    }
   ],
   "source": [
    "# Scatter plot of Sentiment scores and predictions\n",
    "plt.figure(figsize=(12, 6))\n",
    "sns.scatterplot(x=range(len(y_test)), y=X_test['Sentiment'], hue=y_pred, palette='viridis', alpha=0.7)\n",
    "plt.title(\"Sentiment Scores vs Predictions\")\n",
    "plt.xlabel(\"Sample Index\")\n",
    "plt.ylabel(\"Sentiment Score\")\n",
    "plt.legend(title=\"Predicted Sentiment\", labels=[\"Negative\", \"Neutral\", \"Positive\"])\n",
    "plt.show()"
   ]
  },
  {
   "cell_type": "markdown",
   "id": "9ab86a39",
   "metadata": {},
   "source": [
    "# Model Complexity Control\n",
    "Overfitting may occur because the model memorizes training data due to its complexity. Here's how to mitigate it:\n",
    "Reduce Random Forest Complexity\n",
    "   1. Limit the depth of trees in the Random Forest model.\n",
    "   2. Control the number of features considered at each split."
   ]
  },
  {
   "cell_type": "code",
   "execution_count": 21,
   "id": "75e041cf",
   "metadata": {},
   "outputs": [],
   "source": [
    "model1 = RandomForestClassifier(\n",
    "    n_estimators=100,  # Number of trees\n",
    "    max_depth=10,      # Limit the depth of each tree\n",
    "    max_features='sqrt',  # Consider a subset of features at each split\n",
    "    random_state=42\n",
    ")"
   ]
  },
  {
   "cell_type": "markdown",
   "id": "9faae556",
   "metadata": {},
   "source": [
    "# Balance the Dataset\n",
    "Check for class imbalance in the target variable (Target). An imbalanced dataset can skew predictions."
   ]
  },
  {
   "cell_type": "code",
   "execution_count": 22,
   "id": "c0020db5",
   "metadata": {},
   "outputs": [
    {
     "name": "stdout",
     "output_type": "stream",
     "text": [
      "2    52\n",
      "1    42\n",
      "0     6\n",
      "Name: Target, dtype: int64\n"
     ]
    },
    {
     "data": {
      "image/png": "[encoded data removed]",
      "text/plain": [
       "<Figure size 800x600 with 1 Axes>"
      ]
     },
     "metadata": {},
     "output_type": "display_data"
    }
   ],
   "source": [
    "# Check class distribution\n",
    "print(data['Target'].value_counts())\n",
    "import matplotlib.pyplot as plt\n",
    "import seaborn as sns\n",
    "# Plot class distribution\n",
    "plt.figure(figsize=(8, 6))\n",
    "sns.countplot(x='Target', data=data, palette='cool', order=[0, 1, 2])\n",
    "plt.title(\"Class Distribution\")\n",
    "plt.xlabel(\"Sentiment Category\")\n",
    "plt.ylabel(\"Frequency\")\n",
    "plt.xticks(ticks=[0, 1, 2], labels=['Negative', 'Neutral', 'Positive'])\n",
    "plt.show()"
   ]
  },
  {
   "cell_type": "markdown",
   "id": "fe5fba2a",
   "metadata": {},
   "source": [
    "# Apply Class Balancing (Oversampling or Undersampling)\n",
    "Use techniques like SMOTE (Synthetic Minority Oversampling Technique) or downsampling."
   ]
  },
  {
   "cell_type": "code",
   "execution_count": 23,
   "id": "ad14f216",
   "metadata": {},
   "outputs": [
    {
     "name": "stdout",
     "output_type": "stream",
     "text": [
      "Resampled Class Distribution:\n",
      "1    52\n",
      "2    52\n",
      "0    52\n",
      "Name: Target, dtype: int64\n"
     ]
    }
   ],
   "source": [
    "from imblearn.over_sampling import SMOTE\n",
    "\n",
    "# Apply SMOTE to balance the dataset\n",
    "smote = SMOTE(random_state=42)\n",
    "X_resampled, y_resampled = smote.fit_resample(X, y)\n",
    "\n",
    "print(f\"Resampled Class Distribution:\\n{pd.Series(y_resampled).value_counts()}\")\n"
   ]
  },
  {
   "cell_type": "markdown",
   "id": "daf939c1",
   "metadata": {},
   "source": [
    "# Use Cross-Validation\n",
    "To validate the model on unseen data, use k-fold cross-validation."
   ]
  },
  {
   "cell_type": "code",
   "execution_count": 24,
   "id": "354cc858",
   "metadata": {},
   "outputs": [
    {
     "name": "stdout",
     "output_type": "stream",
     "text": [
      "Cross-Validation Accuracy Scores: [1.         0.96774194 1.         1.         1.        ]\n",
      "Mean CV Accuracy: 0.99\n"
     ]
    }
   ],
   "source": [
    "from sklearn.model_selection import cross_val_score\n",
    "\n",
    "# Perform 5-fold cross-validation\n",
    "cv_scores = cross_val_score(model, X_resampled, y_resampled, cv=5, scoring='accuracy')\n",
    "\n",
    "print(f\"Cross-Validation Accuracy Scores: {cv_scores}\")\n",
    "print(f\"Mean CV Accuracy: {cv_scores.mean():.2f}\")"
   ]
  },
  {
   "cell_type": "markdown",
   "id": "766aa63d",
   "metadata": {},
   "source": [
    "# Reevaluate the Model\n",
    "Train and evaluate the model with adjustments."
   ]
  },
  {
   "cell_type": "code",
   "execution_count": 25,
   "id": "00dd0443",
   "metadata": {},
   "outputs": [
    {
     "name": "stdout",
     "output_type": "stream",
     "text": [
      "Adjusted Model Accuracy: 1.00\n",
      "Classification Report:\n",
      "               precision    recall  f1-score   support\n",
      "\n",
      "    Negative       1.00      1.00      1.00         2\n",
      "     Neutral       1.00      1.00      1.00         8\n",
      "    Positive       1.00      1.00      1.00        10\n",
      "\n",
      "    accuracy                           1.00        20\n",
      "   macro avg       1.00      1.00      1.00        20\n",
      "weighted avg       1.00      1.00      1.00        20\n",
      "\n"
     ]
    }
   ],
   "source": [
    "# Train the adjusted Random Forest model\n",
    "model1.fit(X_train, y_train)\n",
    "\n",
    "# Predict and evaluate\n",
    "y_pred = model1.predict(X_test)\n",
    "accuracy = accuracy_score(y_test, y_pred)\n",
    "\n",
    "print(f\"Adjusted Model Accuracy: {accuracy:.2f}\")\n",
    "print(\"Classification Report:\\n\", classification_report(y_test, y_pred, target_names=['Negative', 'Neutral', 'Positive']))\n"
   ]
  },
  {
   "cell_type": "markdown",
   "id": "752d4894",
   "metadata": {},
   "source": [
    "# Add Random Noise\n",
    "If the dataset is small or overly clean, inject random noise into the training data to simulate variability."
   ]
  },
  {
   "cell_type": "code",
   "execution_count": 26,
   "id": "6a319d91",
   "metadata": {},
   "outputs": [
    {
     "name": "stdout",
     "output_type": "stream",
     "text": [
      "Adjusted Model Accuracy: 0.95\n"
     ]
    }
   ],
   "source": [
    "import numpy as np\n",
    "\n",
    "# Add noise to Sentiment scores in the training set\n",
    "X_train_noisy = X_train.copy()\n",
    "X_train_noisy['Sentiment'] += np.random.normal(0, 0.05, size=X_train.shape[0])  # Add small random noise\n",
    "\n",
    "# Retrain the model on noisy data\n",
    "model1.fit(X_train_noisy, y_train)\n",
    "y_pred = model1.predict(X_test)\n",
    "accuracy = accuracy_score(y_test, y_pred)\n",
    "\n",
    "print(f\"Adjusted Model Accuracy: {accuracy:.2f}\")"
   ]
  },
  {
   "cell_type": "code",
   "execution_count": 27,
   "id": "1938fc0b",
   "metadata": {},
   "outputs": [],
   "source": [
    "import numpy as np\n",
    "\n",
    "# Add random noise to the Sentiment scores\n",
    "data['Noisy_Sentiment'] = data['Sentiment'] + np.random.normal(0, 0.05, size=len(data))  # Adjust the standard deviation as needed\n",
    "\n",
    "# Clip the noisy sentiment scores to keep them within valid range (-1 to 1)\n",
    "data['Noisy_Sentiment'] = data['Noisy_Sentiment'].clip(-1, 1)\n"
   ]
  },
  {
   "cell_type": "code",
   "execution_count": 28,
   "id": "7085c0b0",
   "metadata": {},
   "outputs": [
    {
     "name": "stdout",
     "output_type": "stream",
     "text": [
      "   Noisy_Sentiment Sentiment_Label\n",
      "0        -0.068345         Neutral\n",
      "1         0.321187        Positive\n",
      "2         0.034967         Neutral\n",
      "3         0.066505         Neutral\n",
      "4        -0.072700         Neutral\n"
     ]
    }
   ],
   "source": [
    "def classify_sentiment(score):\n",
    "    if score > 0.1:\n",
    "        return 'Positive'\n",
    "    elif score < -0.1:\n",
    "        return 'Negative'\n",
    "    else:\n",
    "        return 'Neutral'\n",
    "\n",
    "# Apply classification\n",
    "data['Sentiment_Label'] = data['Noisy_Sentiment'].apply(classify_sentiment)\n",
    "\n",
    "# Display the first few rows\n",
    "print(data[['Noisy_Sentiment', 'Sentiment_Label']].head())\n"
   ]
  },
  {
   "cell_type": "code",
   "execution_count": 29,
   "id": "19ef1eaf",
   "metadata": {},
   "outputs": [
    {
     "name": "stdout",
     "output_type": "stream",
     "text": [
      "Sentiment Distribution:\n",
      " Positive    52\n",
      "Neutral     42\n",
      "Negative     6\n",
      "Name: Sentiment_Label, dtype: int64\n"
     ]
    },
    {
     "data": {
      "image/png": "[encoded data removed]",
      "text/plain": [
       "<Figure size 800x600 with 1 Axes>"
      ]
     },
     "metadata": {},
     "output_type": "display_data"
    }
   ],
   "source": [
    "# Count the sentiment categories\n",
    "sentiment_counts = data['Sentiment_Label'].value_counts()\n",
    "print(\"Sentiment Distribution:\\n\", sentiment_counts)\n",
    "\n",
    "# Plot sentiment distribution\n",
    "import seaborn as sns\n",
    "import matplotlib.pyplot as plt\n",
    "\n",
    "plt.figure(figsize=(8, 6))\n",
    "sns.countplot(x='Sentiment_Label', data=data, palette='viridis', order=['Positive', 'Neutral', 'Negative'])\n",
    "plt.title(\"Sentiment Distribution After Adding Noise\")\n",
    "plt.xlabel(\"Sentiment Category\")\n",
    "plt.ylabel(\"Frequency\")\n",
    "plt.show()\n"
   ]
  },
  {
   "cell_type": "code",
   "execution_count": 30,
   "id": "14277db8",
   "metadata": {},
   "outputs": [],
   "source": [
    "# Use the noisy sentiment as the feature\n",
    "X = data[['Noisy_Sentiment']]  # Feature\n",
    "y = data['Sentiment_Label']    # Target (Categorical: 'Positive', 'Neutral', 'Negative')\n",
    "\n",
    "# Convert categorical labels to numerical values\n",
    "from sklearn.preprocessing import LabelEncoder\n",
    "\n",
    "label_encoder = LabelEncoder()\n",
    "y_encoded = label_encoder.fit_transform(y)  # Encode 'Positive', 'Neutral', 'Negative' as integers\n"
   ]
  },
  {
   "cell_type": "code",
   "execution_count": 31,
   "id": "b9b66934",
   "metadata": {},
   "outputs": [
    {
     "name": "stdout",
     "output_type": "stream",
     "text": [
      "Model Accuracy with Noisy Sentiment: 1.00\n",
      "Classification Report:\n",
      "               precision    recall  f1-score   support\n",
      "\n",
      "    Negative       1.00      1.00      1.00         2\n",
      "     Neutral       1.00      1.00      1.00         8\n",
      "    Positive       1.00      1.00      1.00        10\n",
      "\n",
      "    accuracy                           1.00        20\n",
      "   macro avg       1.00      1.00      1.00        20\n",
      "weighted avg       1.00      1.00      1.00        20\n",
      "\n"
     ]
    }
   ],
   "source": [
    "from sklearn.ensemble import RandomForestClassifier\n",
    "from sklearn.model_selection import train_test_split\n",
    "from sklearn.metrics import classification_report, accuracy_score\n",
    "\n",
    "# Train-test split\n",
    "X_train, X_test, y_train, y_test = train_test_split(X, y_encoded, test_size=0.2, random_state=42)\n",
    "\n",
    "# Train Random Forest classifier\n",
    "model3 = RandomForestClassifier(n_estimators=100, max_depth=10, random_state=42)\n",
    "model3.fit(X_train, y_train)\n",
    "\n",
    "# Predict and evaluate\n",
    "y_pred3 = model3.predict(X_test)\n",
    "accuracy = accuracy_score(y_test, y_pred3)\n",
    "\n",
    "print(f\"Model Accuracy with Noisy Sentiment: {accuracy:.2f}\")\n",
    "print(\"Classification Report:\\n\", classification_report(y_test, y_pred3, target_names=label_encoder.classes_))\n"
   ]
  },
  {
   "cell_type": "markdown",
   "id": "0da4b1f2",
   "metadata": {},
   "source": [
    "# Advanced Sentiment Analysis With VADER\n",
    "The VADER (Valence Aware Dictionary and Sentiment Reasoner) library is well-suited for social media data"
   ]
  },
  {
   "cell_type": "code",
   "execution_count": 32,
   "id": "5f713740",
   "metadata": {},
   "outputs": [
    {
     "name": "stderr",
     "output_type": "stream",
     "text": [
      "[nltk_data] Downloading package vader_lexicon to\n",
      "[nltk_data]     C:\\Users\\Gavya\\AppData\\Roaming\\nltk_data...\n"
     ]
    },
    {
     "name": "stdout",
     "output_type": "stream",
     "text": [
      "VADER sentiment added and saved to tweets_with_vader_sentiment.csv\n"
     ]
    }
   ],
   "source": [
    "from nltk.sentiment.vader import SentimentIntensityAnalyzer\n",
    "import nltk\n",
    "\n",
    "# Download VADER lexicon\n",
    "nltk.download('vader_lexicon')\n",
    "\n",
    "# Initialize VADER sentiment analyzer\n",
    "sia = SentimentIntensityAnalyzer()\n",
    "\n",
    "# Apply VADER sentiment analysis\n",
    "def vader_sentiment(tweet):\n",
    "    sentiment = sia.polarity_scores(tweet)\n",
    "    return sentiment['compound']  # Use compound score for overall sentiment\n",
    "\n",
    "data['VADER_Sentiment'] = data['Cleaned_Tweet'].apply(vader_sentiment)\n",
    "\n",
    "# Save the updated data\n",
    "data.to_csv('tweets_with_vader_sentiment.csv', index=False)\n",
    "print(\"VADER sentiment added and saved to tweets_with_vader_sentiment.csv\")\n"
   ]
  },
  {
   "cell_type": "markdown",
   "id": "7067690e",
   "metadata": {},
   "source": [
    "# Integrating Historical Stock Data\n",
    "To Correlate tweets with stock prices, use historical stock data from sources like Yahoo Finance"
   ]
  },
  {
   "cell_type": "code",
   "execution_count": 35,
   "id": "70d2c19c",
   "metadata": {},
   "outputs": [
    {
     "name": "stdout",
     "output_type": "stream",
     "text": [
      "Collecting yfinance\n",
      "  Downloading yfinance-0.2.50-py2.py3-none-any.whl (102 kB)\n",
      "     ------------------------------------ 102.2/102.2 kB 652.5 kB/s eta 0:00:00\n",
      "Requirement already satisfied: lxml>=4.9.1 in c:\\users\\gavya\\anaconda3\\lib\\site-packages (from yfinance) (4.9.1)\n",
      "Requirement already satisfied: numpy>=1.16.5 in c:\\users\\gavya\\anaconda3\\lib\\site-packages (from yfinance) (1.21.6)\n",
      "Requirement already satisfied: pandas>=1.3.0 in c:\\users\\gavya\\anaconda3\\lib\\site-packages (from yfinance) (1.4.4)\n",
      "Requirement already satisfied: platformdirs>=2.0.0 in c:\\users\\gavya\\anaconda3\\lib\\site-packages (from yfinance) (2.5.2)\n",
      "Requirement already satisfied: beautifulsoup4>=4.11.1 in c:\\users\\gavya\\anaconda3\\lib\\site-packages (from yfinance) (4.11.1)\n",
      "Collecting pytz>=2022.5\n",
      "  Downloading pytz-2024.2-py2.py3-none-any.whl (508 kB)\n",
      "     -------------------------------------- 508.0/508.0 kB 1.8 MB/s eta 0:00:00\n",
      "Collecting frozendict>=2.3.4\n",
      "  Downloading frozendict-2.4.6-cp39-cp39-win_amd64.whl (37 kB)\n",
      "Collecting peewee>=3.16.2\n",
      "  Downloading peewee-3.17.8.tar.gz (948 kB)\n",
      "     -------------------------------------- 948.2/948.2 kB 3.3 MB/s eta 0:00:00\n",
      "  Installing build dependencies: started\n",
      "  Installing build dependencies: finished with status 'done'\n",
      "  Getting requirements to build wheel: started\n",
      "  Getting requirements to build wheel: finished with status 'done'\n",
      "  Preparing metadata (pyproject.toml): started\n",
      "  Preparing metadata (pyproject.toml): finished with status 'done'\n",
      "Collecting multitasking>=0.0.7\n",
      "  Downloading multitasking-0.0.11-py3-none-any.whl (8.5 kB)\n",
      "Collecting requests>=2.31\n",
      "  Downloading requests-2.32.3-py3-none-any.whl (64 kB)\n",
      "     ---------------------------------------- 64.9/64.9 kB 3.4 MB/s eta 0:00:00\n",
      "Collecting html5lib>=1.1\n",
      "  Downloading html5lib-1.1-py2.py3-none-any.whl (112 kB)\n",
      "     -------------------------------------- 112.2/112.2 kB 1.3 MB/s eta 0:00:00\n",
      "Requirement already satisfied: soupsieve>1.2 in c:\\users\\gavya\\anaconda3\\lib\\site-packages (from beautifulsoup4>=4.11.1->yfinance) (2.3.1)\n",
      "Requirement already satisfied: six>=1.9 in c:\\users\\gavya\\anaconda3\\lib\\site-packages (from html5lib>=1.1->yfinance) (1.16.0)\n",
      "Requirement already satisfied: webencodings in c:\\users\\gavya\\anaconda3\\lib\\site-packages (from html5lib>=1.1->yfinance) (0.5.1)\n",
      "Requirement already satisfied: python-dateutil>=2.8.1 in c:\\users\\gavya\\anaconda3\\lib\\site-packages (from pandas>=1.3.0->yfinance) (2.8.2)\n",
      "Requirement already satisfied: charset-normalizer<4,>=2 in c:\\users\\gavya\\anaconda3\\lib\\site-packages (from requests>=2.31->yfinance) (2.0.4)\n",
      "Requirement already satisfied: idna<4,>=2.5 in c:\\users\\gavya\\anaconda3\\lib\\site-packages (from requests>=2.31->yfinance) (3.3)\n",
      "Requirement already satisfied: certifi>=2017.4.17 in c:\\users\\gavya\\anaconda3\\lib\\site-packages (from requests>=2.31->yfinance) (2022.9.14)\n",
      "Requirement already satisfied: urllib3<3,>=1.21.1 in c:\\users\\gavya\\anaconda3\\lib\\site-packages (from requests>=2.31->yfinance) (1.26.11)\n",
      "Building wheels for collected packages: peewee\n",
      "  Building wheel for peewee (pyproject.toml): started\n",
      "  Building wheel for peewee (pyproject.toml): finished with status 'done'\n",
      "  Created wheel for peewee: filename=peewee-3.17.8-py3-none-any.whl size=139012 sha256=73bbb1b9ed474fffbbf5211c1f30d9d2c592ce78253f8c39c5194a1022ddb211\n",
      "  Stored in directory: c:\\users\\gavya\\appdata\\local\\pip\\cache\\wheels\\06\\b3\\7f\\ed42a7c83ad89f578928833f5789212c694a015b8bd6a407a1\n",
      "Successfully built peewee\n",
      "Installing collected packages: pytz, peewee, multitasking, requests, html5lib, frozendict, yfinance\n",
      "  Attempting uninstall: pytz\n",
      "    Found existing installation: pytz 2022.1\n",
      "    Uninstalling pytz-2022.1:\n",
      "      Successfully uninstalled pytz-2022.1\n",
      "  Attempting uninstall: requests\n",
      "    Found existing installation: requests 2.28.1\n",
      "    Uninstalling requests-2.28.1:\n",
      "      Successfully uninstalled requests-2.28.1\n",
      "Successfully installed frozendict-2.4.6 html5lib-1.1 multitasking-0.0.11 peewee-3.17.8 pytz-2024.2 requests-2.32.3 yfinance-0.2.50\n",
      "Note: you may need to restart the kernel to use updated packages.\n"
     ]
    },
    {
     "name": "stderr",
     "output_type": "stream",
     "text": [
      "ERROR: pip's dependency resolver does not currently take into account all the packages that are installed. This behaviour is the source of the following dependency conflicts.\n",
      "anaconda-project 0.11.1 requires ruamel-yaml, which is not installed.\n",
      "conda-repo-cli 1.0.20 requires clyent==1.2.1, but you have clyent 1.2.2 which is incompatible.\n",
      "conda-repo-cli 1.0.20 requires nbformat==5.4.0, but you have nbformat 5.5.0 which is incompatible.\n",
      "conda-repo-cli 1.0.20 requires requests==2.28.1, but you have requests 2.32.3 which is incompatible.\n"
     ]
    }
   ],
   "source": [
    "pip install yfinance"
   ]
  },
  {
   "cell_type": "code",
   "execution_count": 38,
   "id": "d185c94b",
   "metadata": {},
   "outputs": [
    {
     "name": "stderr",
     "output_type": "stream",
     "text": [
      "[*********************100%***********************]  1 of 1 completed"
     ]
    },
    {
     "name": "stdout",
     "output_type": "stream",
     "text": [
      "Price        Date       Close\n",
      "Ticker                   AAPL\n",
      "229    2024-11-27  234.929993\n",
      "230    2024-11-29  237.330002\n",
      "231    2024-12-02  239.589996\n",
      "232    2024-12-03  242.649994\n",
      "233    2024-12-04  243.009995\n"
     ]
    },
    {
     "name": "stderr",
     "output_type": "stream",
     "text": [
      "\n"
     ]
    }
   ],
   "source": [
    "import yfinance as yf\n",
    "\n",
    "# Fetch historical stock data\n",
    "def get_stock_data(ticker, start_date, end_date):\n",
    "    stock_data = yf.download(ticker, start=start_date, end=end_date)\n",
    "    return stock_data[['Close']]  # Use the closing price for trends\n",
    "\n",
    "# Example: Fetch data for Apple Inc. (AAPL)\n",
    "stock_data = get_stock_data('AAPL', '2024-01-01', '2024-12-5')\n",
    "stock_data.reset_index(inplace=True)\n",
    "print(stock_data.tail())\n"
   ]
  },
  {
   "cell_type": "code",
   "execution_count": 40,
   "id": "61a6e569",
   "metadata": {},
   "outputs": [
    {
     "name": "stdout",
     "output_type": "stream",
     "text": [
      "Index(['edit_history_tweet_ids', 'text', 'id', 'Cleaned_Tweet', 'Sentiment',\n",
      "       'Target', 'Noisy_Sentiment', 'Sentiment_Label', 'VADER_Sentiment'],\n",
      "      dtype='object')\n"
     ]
    }
   ],
   "source": [
    "print(data.columns)"
   ]
  },
  {
   "cell_type": "code",
   "execution_count": 42,
   "id": "1cce3e15",
   "metadata": {},
   "outputs": [],
   "source": [
    "import pandas as pd\n",
    "from datetime import datetime, timedelta\n",
    "\n",
    "# Generate sequential timestamps for each tweet\n",
    "start_time = datetime(2024, 1, 1, 12, 0, 0)  # Example start time\n",
    "data['Timestamp'] = [start_time + timedelta(minutes=i) for i in range(len(data))]\n",
    "\n",
    "# Convert to date for aggregation\n",
    "data['Date'] = pd.to_datetime(data['Timestamp']).dt.date\n"
   ]
  },
  {
   "cell_type": "code",
   "execution_count": 43,
   "id": "b8b0a99b",
   "metadata": {},
   "outputs": [],
   "source": [
    "data['Timestamp'] = pd.date_range(start=\"2024-01-01\", periods=len(data), freq=\"T\")  # Simulate timestamps (1-min intervals)\n",
    "data['Date'] = data['Timestamp'].dt.date"
   ]
  },
  {
   "cell_type": "code",
   "execution_count": 44,
   "id": "efb8aa9c",
   "metadata": {},
   "outputs": [
    {
     "name": "stdout",
     "output_type": "stream",
     "text": [
      "         Date  Sentiment\n",
      "0  2024-01-01   0.171482\n"
     ]
    }
   ],
   "source": [
    "# Average sentiment per day\n",
    "daily_sentiment = data.groupby('Date')['Sentiment'].mean().reset_index()\n",
    "print(daily_sentiment.head())\n"
   ]
  },
  {
   "cell_type": "markdown",
   "id": "2ec22e2b",
   "metadata": {},
   "source": [
    "# Merging Sentiment Data with Stock Data\n",
    "Align the timestamps of tweets with stock closing price"
   ]
  },
  {
   "cell_type": "code",
   "execution_count": 46,
   "id": "677c0189",
   "metadata": {},
   "outputs": [
    {
     "name": "stdout",
     "output_type": "stream",
     "text": [
      "Merged data saved to merged_stock_sentiment.csv\n"
     ]
    },
    {
     "name": "stderr",
     "output_type": "stream",
     "text": [
      "C:\\Users\\Gavya\\AppData\\Local\\Temp\\ipykernel_3432\\1255271485.py:9: FutureWarning: merging between different levels is deprecated and will be removed in a future version. (2 levels on the left, 1 on the right)\n",
      "  merged_data = pd.merge(stock_data, daily_sentiment, on='Date', how='inner')\n"
     ]
    }
   ],
   "source": [
    "# Convert timestamps to date for aggregation\n",
    "data['Date'] = pd.to_datetime(data['Timestamp']).dt.date\n",
    "\n",
    "# Average sentiment per day\n",
    "daily_sentiment = data.groupby('Date')['VADER_Sentiment'].mean().reset_index()\n",
    "\n",
    "# Merge with stock data\n",
    "stock_data['Date'] = stock_data['Date'].dt.date\n",
    "merged_data = pd.merge(stock_data, daily_sentiment, on='Date', how='inner')\n",
    "\n",
    "# Save merged data\n",
    "merged_data.to_csv('merged_stock_sentiment.csv', index=False)\n",
    "print(\"Merged data saved to merged_stock_sentiment.csv\")\n"
   ]
  },
  {
   "cell_type": "code",
   "execution_count": 48,
   "id": "bb92649a",
   "metadata": {},
   "outputs": [
    {
     "name": "stdout",
     "output_type": "stream",
     "text": [
      "Index(['Date', ('Date', ''), ('Close', 'AAPL'), 'VADER_Sentiment'], dtype='object')\n"
     ]
    }
   ],
   "source": [
    "print(merged_data.columns)"
   ]
  },
  {
   "cell_type": "code",
   "execution_count": 49,
   "id": "39180ffe",
   "metadata": {},
   "outputs": [
    {
     "name": "stderr",
     "output_type": "stream",
     "text": [
      "[*********************100%***********************]  1 of 1 completed"
     ]
    },
    {
     "name": "stdout",
     "output_type": "stream",
     "text": [
      "Price        Adj Close       Close        High         Low        Open  \\\n",
      "Ticker            AAPL        AAPL        AAPL        AAPL        AAPL   \n",
      "Date                                                                     \n",
      "2023-01-03  123.768463  125.070000  130.899994  124.169998  130.279999   \n",
      "2023-01-04  125.045044  126.360001  128.660004  125.080002  126.889999   \n",
      "2023-01-05  123.718979  125.019997  127.769997  124.760002  127.129997   \n",
      "2023-01-06  128.271103  129.619995  130.289993  124.889999  126.010002   \n",
      "2023-01-09  128.795593  130.149994  133.410004  129.889999  130.470001   \n",
      "\n",
      "Price          Volume  \n",
      "Ticker           AAPL  \n",
      "Date                   \n",
      "2023-01-03  112117500  \n",
      "2023-01-04   89113600  \n",
      "2023-01-05   80962700  \n",
      "2023-01-06   87754700  \n",
      "2023-01-09   70790800  \n"
     ]
    },
    {
     "name": "stderr",
     "output_type": "stream",
     "text": [
      "\n"
     ]
    }
   ],
   "source": [
    "stock_data = yf.download('AAPL', start='2023-01-01', end='2023-12-31')\n",
    "print(stock_data.head())  # Confirm that 'Close' is in stock_data"
   ]
  },
  {
   "cell_type": "code",
   "execution_count": null,
   "id": "f67b780f",
   "metadata": {},
   "outputs": [],
   "source": []
  },
  {
   "cell_type": "code",
   "execution_count": null,
   "id": "5b16ebb2",
   "metadata": {},
   "outputs": [],
   "source": []
  }
 ],
 "metadata": {
  "kernelspec": {
   "display_name": "Python 3 (ipykernel)",
   "language": "python",
   "name": "python3"
  },
  "language_info": {
   "codemirror_mode": {
    "name": "ipython",
    "version": 3
   },
   "file_extension": ".py",
   "mimetype": "text/x-python",
   "name": "python",
   "nbconvert_exporter": "python",
   "pygments_lexer": "ipython3",
   "version": "3.9.13"
  }
 },
 "nbformat": 4,
 "nbformat_minor": 5
}
